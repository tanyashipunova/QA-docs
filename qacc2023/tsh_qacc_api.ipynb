{
  "cells": [
    {
      "cell_type": "markdown",
      "metadata": {
        "id": "view-in-github",
        "colab_type": "text"
      },
      "source": [
        "<a href=\"https://colab.research.google.com/github/tanyashipunova/QA-docs/blob/main/qacc2023/tsh_qacc_api.ipynb\" target=\"_parent\"><img src=\"https://colab.research.google.com/assets/colab-badge.svg\" alt=\"Open In Colab\"/></a>"
      ]
    },
    {
      "cell_type": "markdown",
      "id": "9eb6d931",
      "metadata": {
        "id": "9eb6d931"
      },
      "source": [
        "## Раздельный вариант реализации автотестов: сначала создать функцию с запросами к апи, затем функции с тестами"
      ]
    },
    {
      "cell_type": "code",
      "execution_count": 1,
      "id": "12f65ce9",
      "metadata": {
        "colab": {
          "base_uri": "https://localhost:8080/"
        },
        "id": "12f65ce9",
        "outputId": "97ce4121-0585-48ef-8bcc-19875ea310a1"
      },
      "outputs": [
        {
          "output_type": "stream",
          "name": "stdout",
          "text": [
            "Writing test_qacc_events_input_get.py\n"
          ]
        }
      ],
      "source": [
        "%%file test_qacc_events_input_get.py\n",
        "\n",
        "import requests\n",
        "import pytest\n",
        "\n",
        "url_to_test = 'https://jsonplaceholder.typicode.com/'\n",
        "\n",
        "def events_get():\n",
        "    response_url = requests.get(url=url_to_test)\n",
        "    response_url.close()\n",
        "    response_posts = requests.get(url_to_test+\"posts/\")\n",
        "    response_header = response_posts.headers\n",
        "    response_json = response_posts.json()\n",
        "    response_posts.close()\n",
        "    response_post1 = requests.get(url_to_test+\"posts/1\")\n",
        "    response_post1_json = response_post1.json()\n",
        "    response_post1.close()\n",
        "    response_list = [response_url, response_posts, response_header, response_json, response_post1, response_post1_json] #0,1,2,3,4,5\n",
        "\n",
        "    return response_list\n",
        "\n",
        "def test_events_get_response_url():\n",
        "    \"\"\"Check an https-response from the web-site is OK\"\"\"\n",
        "    assert events_get()[0].status_code == 200, 'not status 200'\n",
        "\n",
        "def test_events_get_response_posts():\n",
        "    \"\"\"Check an https-response from the web-site is OK\"\"\"\n",
        "    assert events_get()[1].status_code == 400, 'status 200' #negative test case\n",
        "\n",
        "def test_events_get_response_post1():\n",
        "    \"\"\"Check an https-response from the web-site is OK\"\"\"\n",
        "    assert events_get()[4].status_code == 500, 'status 200' #negative test case\n",
        "\n",
        "def test_events_get_response_header():\n",
        "    \"\"\"Check content type is json\"\"\"\n",
        "    assert events_get()[2]['Content-Type'] == 'application/json; charset=utf-8', 'the content type format does not equal to a value application/json'\n",
        "\n",
        "def test_events_get_response_json_len():\n",
        "    \"\"\"Check posts are more than 0\"\"\"\n",
        "    assert len(events_get()[3]) > 0, 'no posts'\n",
        "\n",
        "def test_events_get_response_json_list():\n",
        "    \"\"\"Check posts are in a list\"\"\"\n",
        "    assert type(events_get()[3]) == list, 'posts are not in a list'\n",
        "\n",
        "def test_events_get_response_json_dict():\n",
        "    \"\"\"Check the first post in a list is a dictionary type\"\"\"\n",
        "    assert type(events_get()[3][0]) == dict, 'the first post in a list is a dictionary type'\n",
        "\n",
        "def test_events_get_response_post1_json():\n",
        "    \"\"\"Check the first post with id 1 exists\"\"\"\n",
        "    assert events_get()[5]['id'] == 1, 'no id equals to 1'"
      ]
    },
    {
      "cell_type": "code",
      "execution_count": 2,
      "id": "368a8538",
      "metadata": {
        "colab": {
          "base_uri": "https://localhost:8080/"
        },
        "id": "368a8538",
        "outputId": "118591e5-c0c4-4c32-d4e1-1bac21e0042f"
      },
      "outputs": [
        {
          "output_type": "stream",
          "name": "stdout",
          "text": [
            "\u001b[1m============================= test session starts ==============================\u001b[0m\n",
            "platform linux -- Python 3.10.12, pytest-7.2.2, pluggy-1.0.0\n",
            "rootdir: /content\n",
            "plugins: anyio-3.6.2\n",
            "\u001b[1mcollecting ... \u001b[0m\u001b[1m\rcollected 8 items                                                              \u001b[0m\n",
            "\n",
            "test_qacc_events_input_get.py \u001b[32m.\u001b[0m\u001b[31mF\u001b[0m\u001b[31mF\u001b[0m\u001b[32m.\u001b[0m\u001b[32m.\u001b[0m\u001b[32m.\u001b[0m\u001b[32m.\u001b[0m\u001b[32m.\u001b[0m\u001b[31m                                   [100%]\u001b[0m\n",
            "\n",
            "=================================== FAILURES ===================================\n",
            "\u001b[31m\u001b[1m________________________ test_events_get_response_posts ________________________\u001b[0m\n",
            "\n",
            "    \u001b[94mdef\u001b[39;49;00m \u001b[92mtest_events_get_response_posts\u001b[39;49;00m():\u001b[90m\u001b[39;49;00m\n",
            "    \u001b[90m    \u001b[39;49;00m\u001b[33m\"\"\"Check an https-response from the web-site is OK\"\"\"\u001b[39;49;00m\u001b[90m\u001b[39;49;00m\n",
            ">       \u001b[94massert\u001b[39;49;00m events_get()[\u001b[94m1\u001b[39;49;00m].status_code == \u001b[94m400\u001b[39;49;00m, \u001b[33m'\u001b[39;49;00m\u001b[33mstatus 200\u001b[39;49;00m\u001b[33m'\u001b[39;49;00m \u001b[90m#negative test case\u001b[39;49;00m\u001b[90m\u001b[39;49;00m\n",
            "\u001b[1m\u001b[31mE       AssertionError: status 200\u001b[0m\n",
            "\u001b[1m\u001b[31mE       assert 200 == 400\u001b[0m\n",
            "\u001b[1m\u001b[31mE        +  where 200 = <Response [200]>.status_code\u001b[0m\n",
            "\n",
            "\u001b[1m\u001b[31mtest_qacc_events_input_get.py\u001b[0m:27: AssertionError\n",
            "\u001b[31m\u001b[1m________________________ test_events_get_response_post1 ________________________\u001b[0m\n",
            "\n",
            "    \u001b[94mdef\u001b[39;49;00m \u001b[92mtest_events_get_response_post1\u001b[39;49;00m():\u001b[90m\u001b[39;49;00m\n",
            "    \u001b[90m    \u001b[39;49;00m\u001b[33m\"\"\"Check an https-response from the web-site is OK\"\"\"\u001b[39;49;00m\u001b[90m\u001b[39;49;00m\n",
            ">       \u001b[94massert\u001b[39;49;00m events_get()[\u001b[94m4\u001b[39;49;00m].status_code == \u001b[94m500\u001b[39;49;00m, \u001b[33m'\u001b[39;49;00m\u001b[33mstatus 200\u001b[39;49;00m\u001b[33m'\u001b[39;49;00m \u001b[90m#negative test case\u001b[39;49;00m\u001b[90m\u001b[39;49;00m\n",
            "\u001b[1m\u001b[31mE       AssertionError: status 200\u001b[0m\n",
            "\u001b[1m\u001b[31mE       assert 200 == 500\u001b[0m\n",
            "\u001b[1m\u001b[31mE        +  where 200 = <Response [200]>.status_code\u001b[0m\n",
            "\n",
            "\u001b[1m\u001b[31mtest_qacc_events_input_get.py\u001b[0m:31: AssertionError\n",
            "\u001b[36m\u001b[1m=========================== short test summary info ============================\u001b[0m\n",
            "\u001b[31mFAILED\u001b[0m test_qacc_events_input_get.py::\u001b[1mtest_events_get_response_posts\u001b[0m - AssertionError: status 200\n",
            "\u001b[31mFAILED\u001b[0m test_qacc_events_input_get.py::\u001b[1mtest_events_get_response_post1\u001b[0m - AssertionError: status 200\n",
            "\u001b[31m========================= \u001b[31m\u001b[1m2 failed\u001b[0m, \u001b[32m6 passed\u001b[0m\u001b[31m in 1.22s\u001b[0m\u001b[31m ==========================\u001b[0m\n"
          ]
        }
      ],
      "source": [
        "!python -m pytest test_qacc_events_input_get.py"
      ]
    },
    {
      "cell_type": "markdown",
      "id": "44562baf",
      "metadata": {
        "id": "44562baf"
      },
      "source": [
        "## Вариант реализации автотестов 2 в 1: запросы к апи на создание/удаление и тесты запросов созданы в пределах одной функции"
      ]
    },
    {
      "cell_type": "code",
      "execution_count": 3,
      "id": "c2d0a878",
      "metadata": {
        "colab": {
          "base_uri": "https://localhost:8080/"
        },
        "id": "c2d0a878",
        "outputId": "0cc0fecb-cffb-4ad5-e540-f7cf401aaa39"
      },
      "outputs": [
        {
          "output_type": "stream",
          "name": "stdout",
          "text": [
            "Writing test_qacc_events_input_post_delete.py\n"
          ]
        }
      ],
      "source": [
        "%%file test_qacc_events_input_post_delete.py\n",
        "\n",
        "import requests\n",
        "import pytest\n",
        "\n",
        "url_to_test = 'https://jsonplaceholder.typicode.com/'\n",
        "post1001 = {\n",
        "    \"userId\": \"1001\",\n",
        "    \"title\": \"fake title1001\",\n",
        "    \"body\": \"fake body1001\"\n",
        "    }\n",
        "\n",
        "def test_createPost1001():\n",
        "    \"\"\"Check a post is created\"\"\"\n",
        "    post1001_create = requests.post(url=url_to_test+\"posts/\", json=post1001)\n",
        "    assert post1001_create.status_code == 201, 'not status 201'\n",
        "\n",
        "def test_createPost1001_json_id():\n",
        "    \"\"\"Check a post is created\"\"\"\n",
        "    post1001_create = requests.post(url=url_to_test+\"posts/\", json=post1001)\n",
        "    assert post1001_create.json()['id'] == 101, 'not id 101'\n",
        "\n",
        "def test_deletePost1001_status():\n",
        "    \"\"\"Check a post is deleted\"\"\"\n",
        "    post1001_delete = requests.delete(url_to_test+\"posts/1001\")\n",
        "    assert post1001_delete.status_code == 200, 'not status 200'\n",
        "\n",
        "def test_deletePost1001_empty():\n",
        "    \"\"\"Check a post is deleted\"\"\"\n",
        "    post1001_delete = requests.delete(url_to_test+\"posts/1001\")\n",
        "    assert post1001_delete.json() == {}, 'not empty'\n",
        "\n",
        "def test_deletePost1001_get():\n",
        "    \"\"\"Check a post is deleted\"\"\"\n",
        "    post1001_get = requests.get(url_to_test+\"posts/1001\")\n",
        "    assert post1001_get.status_code == 404, 'not status 404'"
      ]
    },
    {
      "cell_type": "code",
      "execution_count": 4,
      "id": "6b165a9d",
      "metadata": {
        "colab": {
          "base_uri": "https://localhost:8080/"
        },
        "id": "6b165a9d",
        "outputId": "3637288b-c42d-4037-d09b-555d213d1ae4"
      },
      "outputs": [
        {
          "output_type": "stream",
          "name": "stdout",
          "text": [
            "\u001b[1m============================= test session starts ==============================\u001b[0m\n",
            "platform linux -- Python 3.10.12, pytest-7.2.2, pluggy-1.0.0\n",
            "rootdir: /content\n",
            "plugins: anyio-3.6.2\n",
            "\u001b[1mcollecting ... \u001b[0m\u001b[1m\rcollected 5 items                                                              \u001b[0m\n",
            "\n",
            "test_qacc_events_input_post_delete.py \u001b[32m.\u001b[0m\u001b[32m.\u001b[0m\u001b[32m.\u001b[0m\u001b[32m.\u001b[0m\u001b[32m.\u001b[0m\u001b[32m                              [100%]\u001b[0m\n",
            "\n",
            "\u001b[32m============================== \u001b[32m\u001b[1m5 passed\u001b[0m\u001b[32m in 1.27s\u001b[0m\u001b[32m ===============================\u001b[0m\n"
          ]
        }
      ],
      "source": [
        "!python -m pytest test_qacc_events_input_post_delete.py"
      ]
    },
    {
      "cell_type": "code",
      "execution_count": null,
      "id": "201e2c7c",
      "metadata": {
        "id": "201e2c7c"
      },
      "outputs": [],
      "source": []
    }
  ],
  "metadata": {
    "kernelspec": {
      "display_name": "Python 3 (ipykernel)",
      "language": "python",
      "name": "python3"
    },
    "language_info": {
      "codemirror_mode": {
        "name": "ipython",
        "version": 3
      },
      "file_extension": ".py",
      "mimetype": "text/x-python",
      "name": "python",
      "nbconvert_exporter": "python",
      "pygments_lexer": "ipython3",
      "version": "3.9.16"
    },
    "colab": {
      "provenance": [],
      "include_colab_link": true
    }
  },
  "nbformat": 4,
  "nbformat_minor": 5
}